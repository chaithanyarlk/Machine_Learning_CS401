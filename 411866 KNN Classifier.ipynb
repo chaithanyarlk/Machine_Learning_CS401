{
 "cells": [
  {
   "cell_type": "code",
   "execution_count": 38,
   "metadata": {},
   "outputs": [
    {
     "name": "stdout",
     "output_type": "stream",
     "text": [
      "These are the neighbours!\n",
      "[[[42, 1], 2.0], [[45, 0], 5.0], [[46, 0], 6.0]]\n",
      "This is prediction about label  0\n"
     ]
    }
   ],
   "source": [
    "from sklearn.linear_model import LinearRegression\n",
    "import numpy as np\n",
    "def eucledianDistance(row1,row2):\n",
    "    dist = 0\n",
    "    for i in range(0,len(row1)):\n",
    "        \n",
    "        try:\n",
    "            dist += (row1[i]-row2[i])**2\n",
    "        except:\n",
    "            print(\"Rows are not in proper order as required verify once!\")\n",
    "    return sqrt(dist)\n",
    "def neighboursArray(dataset,row,k,train):\n",
    "    neighbours = []\n",
    "    for i in range(len(train)):\n",
    "        ecd = eucledianDistance(train[i],row)\n",
    "        neighbours.append([dataset[i],ecd])\n",
    "    neighbours.sort(key=lambda x:x[1])\n",
    "    return neighbours[:k]# return K nearest neighbours\n",
    "def prediction(dataset,row,k,train):\n",
    "    neighbours = neighboursArray(dataset,row,k,train)\n",
    "    print(\"These are the neighbours!\")\n",
    "    print(neighbours)\n",
    "    labels = []\n",
    "    for i in neighbours:\n",
    "        labels.append(i[0][-1])\n",
    "    return max(set(labels),key = labels.count)\n",
    "def predictionRegressor(dataset,row,k,train):\n",
    "    neighbours = neighboursArray(dataset,row,k,train)\n",
    "    print(\"These are the neighbours!\")\n",
    "    print(neighbours)\n",
    "    y = []\n",
    "    X = []\n",
    "    for i in neighbours:\n",
    "        y.append(i[0][-1])\n",
    "        X.append(i[0][0])\n",
    "        \n",
    "    X = np.array(X)\n",
    "    y = np.array(y)\n",
    "    reg = LinearRegression().fit(X, y)\n",
    "    return int(reg.predict(np.array(row)))\n",
    "    \n",
    "\n",
    "\n",
    "data={\n",
    "    'Age':[42,65,50,76,96,50,91,58,25,23,75,46,87,96,45,32,63,21,26,93,68,96],\n",
    "    'Likes':[1,1,1,1,1,1,0,1,1,1,1,0,0,0,0,1,0,1,1,0,1,0]\n",
    "}\n",
    "dataset = []\n",
    "train = []\n",
    "for i in range(len(data['Age'])):\n",
    "    dataset.append([data['Age'][i],data['Likes'][i]])\n",
    "    train.append([data['Age'][i]])\n",
    "pred_label = prediction(dataset,[40],3,train)\n",
    "print(\"This is prediction about label \",pred_label)"
   ]
  },
  {
   "cell_type": "code",
   "execution_count": null,
   "metadata": {},
   "outputs": [],
   "source": []
  }
 ],
 "metadata": {
  "kernelspec": {
   "display_name": "Python 3",
   "language": "python",
   "name": "python3"
  },
  "language_info": {
   "codemirror_mode": {
    "name": "ipython",
    "version": 3
   },
   "file_extension": ".py",
   "mimetype": "text/x-python",
   "name": "python",
   "nbconvert_exporter": "python",
   "pygments_lexer": "ipython3",
   "version": "3.7.6"
  }
 },
 "nbformat": 4,
 "nbformat_minor": 4
}
